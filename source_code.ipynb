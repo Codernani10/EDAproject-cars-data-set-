{
 "cells": [
  {
   "cell_type": "markdown",
   "metadata": {},
   "source": [
    "importing the required libraries"
   ]
  },
  {
   "cell_type": "code",
   "execution_count": 1,
   "metadata": {},
   "outputs": [],
   "source": [
    "import pandas as pd\n",
    "import numpy as np\n",
    "import seaborn as sns\n",
    "import matplotlib.pyplot as plt"
   ]
  },
  {
   "cell_type": "markdown",
   "metadata": {},
   "source": [
    " 1) Loading the CSV data file into a pandas dataframe"
   ]
  },
  {
   "cell_type": "code",
   "execution_count": 2,
   "metadata": {},
   "outputs": [],
   "source": [
    "df = pd.read_csv(\"C:\\\\Users\\\\naresh\\\\OneDrive\\\\Desktop\\\\EDA\\\\CARS\\\\Data set\\\\CARS.csv\")"
   ]
  },
  {
   "cell_type": "code",
   "execution_count": 10,
   "metadata": {},
   "outputs": [
    {
     "data": {
      "text/html": [
       "<div>\n",
       "<style scoped>\n",
       "    .dataframe tbody tr th:only-of-type {\n",
       "        vertical-align: middle;\n",
       "    }\n",
       "\n",
       "    .dataframe tbody tr th {\n",
       "        vertical-align: top;\n",
       "    }\n",
       "\n",
       "    .dataframe thead th {\n",
       "        text-align: right;\n",
       "    }\n",
       "</style>\n",
       "<table border=\"1\" class=\"dataframe\">\n",
       "  <thead>\n",
       "    <tr style=\"text-align: right;\">\n",
       "      <th></th>\n",
       "      <th>Make</th>\n",
       "      <th>Model</th>\n",
       "      <th>Type</th>\n",
       "      <th>Origin</th>\n",
       "      <th>DriveTrain</th>\n",
       "      <th>MSRP</th>\n",
       "      <th>Invoice</th>\n",
       "      <th>EngineSize</th>\n",
       "      <th>Cylinders</th>\n",
       "      <th>Horsepower</th>\n",
       "      <th>MPG_City</th>\n",
       "      <th>MPG_Highway</th>\n",
       "      <th>Weight</th>\n",
       "      <th>Wheelbase</th>\n",
       "      <th>Length</th>\n",
       "    </tr>\n",
       "  </thead>\n",
       "  <tbody>\n",
       "    <tr>\n",
       "      <th>0</th>\n",
       "      <td>Acura</td>\n",
       "      <td>MDX</td>\n",
       "      <td>SUV</td>\n",
       "      <td>Asia</td>\n",
       "      <td>All</td>\n",
       "      <td>$36,945</td>\n",
       "      <td>$33,337</td>\n",
       "      <td>3.5</td>\n",
       "      <td>6.0</td>\n",
       "      <td>265</td>\n",
       "      <td>17</td>\n",
       "      <td>23</td>\n",
       "      <td>4451</td>\n",
       "      <td>106</td>\n",
       "      <td>189</td>\n",
       "    </tr>\n",
       "    <tr>\n",
       "      <th>1</th>\n",
       "      <td>Acura</td>\n",
       "      <td>RSX Type S 2dr</td>\n",
       "      <td>Sedan</td>\n",
       "      <td>Asia</td>\n",
       "      <td>Front</td>\n",
       "      <td>$23,820</td>\n",
       "      <td>$21,761</td>\n",
       "      <td>2.0</td>\n",
       "      <td>4.0</td>\n",
       "      <td>200</td>\n",
       "      <td>24</td>\n",
       "      <td>31</td>\n",
       "      <td>2778</td>\n",
       "      <td>101</td>\n",
       "      <td>172</td>\n",
       "    </tr>\n",
       "    <tr>\n",
       "      <th>2</th>\n",
       "      <td>Acura</td>\n",
       "      <td>TSX 4dr</td>\n",
       "      <td>Sedan</td>\n",
       "      <td>Asia</td>\n",
       "      <td>Front</td>\n",
       "      <td>$26,990</td>\n",
       "      <td>$24,647</td>\n",
       "      <td>2.4</td>\n",
       "      <td>4.0</td>\n",
       "      <td>200</td>\n",
       "      <td>22</td>\n",
       "      <td>29</td>\n",
       "      <td>3230</td>\n",
       "      <td>105</td>\n",
       "      <td>183</td>\n",
       "    </tr>\n",
       "    <tr>\n",
       "      <th>3</th>\n",
       "      <td>Acura</td>\n",
       "      <td>TL 4dr</td>\n",
       "      <td>Sedan</td>\n",
       "      <td>Asia</td>\n",
       "      <td>Front</td>\n",
       "      <td>$33,195</td>\n",
       "      <td>$30,299</td>\n",
       "      <td>3.2</td>\n",
       "      <td>6.0</td>\n",
       "      <td>270</td>\n",
       "      <td>20</td>\n",
       "      <td>28</td>\n",
       "      <td>3575</td>\n",
       "      <td>108</td>\n",
       "      <td>186</td>\n",
       "    </tr>\n",
       "    <tr>\n",
       "      <th>4</th>\n",
       "      <td>Acura</td>\n",
       "      <td>3.5 RL 4dr</td>\n",
       "      <td>Sedan</td>\n",
       "      <td>Asia</td>\n",
       "      <td>Front</td>\n",
       "      <td>$43,755</td>\n",
       "      <td>$39,014</td>\n",
       "      <td>3.5</td>\n",
       "      <td>6.0</td>\n",
       "      <td>225</td>\n",
       "      <td>18</td>\n",
       "      <td>24</td>\n",
       "      <td>3880</td>\n",
       "      <td>115</td>\n",
       "      <td>197</td>\n",
       "    </tr>\n",
       "    <tr>\n",
       "      <th>...</th>\n",
       "      <td>...</td>\n",
       "      <td>...</td>\n",
       "      <td>...</td>\n",
       "      <td>...</td>\n",
       "      <td>...</td>\n",
       "      <td>...</td>\n",
       "      <td>...</td>\n",
       "      <td>...</td>\n",
       "      <td>...</td>\n",
       "      <td>...</td>\n",
       "      <td>...</td>\n",
       "      <td>...</td>\n",
       "      <td>...</td>\n",
       "      <td>...</td>\n",
       "      <td>...</td>\n",
       "    </tr>\n",
       "    <tr>\n",
       "      <th>423</th>\n",
       "      <td>Volvo</td>\n",
       "      <td>C70 LPT convertible 2dr</td>\n",
       "      <td>Sedan</td>\n",
       "      <td>Europe</td>\n",
       "      <td>Front</td>\n",
       "      <td>$40,565</td>\n",
       "      <td>$38,203</td>\n",
       "      <td>2.4</td>\n",
       "      <td>5.0</td>\n",
       "      <td>197</td>\n",
       "      <td>21</td>\n",
       "      <td>28</td>\n",
       "      <td>3450</td>\n",
       "      <td>105</td>\n",
       "      <td>186</td>\n",
       "    </tr>\n",
       "    <tr>\n",
       "      <th>424</th>\n",
       "      <td>Volvo</td>\n",
       "      <td>C70 HPT convertible 2dr</td>\n",
       "      <td>Sedan</td>\n",
       "      <td>Europe</td>\n",
       "      <td>Front</td>\n",
       "      <td>$42,565</td>\n",
       "      <td>$40,083</td>\n",
       "      <td>2.3</td>\n",
       "      <td>5.0</td>\n",
       "      <td>242</td>\n",
       "      <td>20</td>\n",
       "      <td>26</td>\n",
       "      <td>3450</td>\n",
       "      <td>105</td>\n",
       "      <td>186</td>\n",
       "    </tr>\n",
       "    <tr>\n",
       "      <th>425</th>\n",
       "      <td>Volvo</td>\n",
       "      <td>S80 T6 4dr</td>\n",
       "      <td>Sedan</td>\n",
       "      <td>Europe</td>\n",
       "      <td>Front</td>\n",
       "      <td>$45,210</td>\n",
       "      <td>$42,573</td>\n",
       "      <td>2.9</td>\n",
       "      <td>6.0</td>\n",
       "      <td>268</td>\n",
       "      <td>19</td>\n",
       "      <td>26</td>\n",
       "      <td>3653</td>\n",
       "      <td>110</td>\n",
       "      <td>190</td>\n",
       "    </tr>\n",
       "    <tr>\n",
       "      <th>426</th>\n",
       "      <td>Volvo</td>\n",
       "      <td>V40</td>\n",
       "      <td>Wagon</td>\n",
       "      <td>Europe</td>\n",
       "      <td>Front</td>\n",
       "      <td>$26,135</td>\n",
       "      <td>$24,641</td>\n",
       "      <td>1.9</td>\n",
       "      <td>4.0</td>\n",
       "      <td>170</td>\n",
       "      <td>22</td>\n",
       "      <td>29</td>\n",
       "      <td>2822</td>\n",
       "      <td>101</td>\n",
       "      <td>180</td>\n",
       "    </tr>\n",
       "    <tr>\n",
       "      <th>427</th>\n",
       "      <td>Volvo</td>\n",
       "      <td>XC70</td>\n",
       "      <td>Wagon</td>\n",
       "      <td>Europe</td>\n",
       "      <td>All</td>\n",
       "      <td>$35,145</td>\n",
       "      <td>$33,112</td>\n",
       "      <td>2.5</td>\n",
       "      <td>5.0</td>\n",
       "      <td>208</td>\n",
       "      <td>20</td>\n",
       "      <td>27</td>\n",
       "      <td>3823</td>\n",
       "      <td>109</td>\n",
       "      <td>186</td>\n",
       "    </tr>\n",
       "  </tbody>\n",
       "</table>\n",
       "<p>428 rows × 15 columns</p>\n",
       "</div>"
      ],
      "text/plain": [
       "      Make                    Model   Type  Origin DriveTrain     MSRP  \\\n",
       "0    Acura                      MDX    SUV    Asia        All  $36,945   \n",
       "1    Acura           RSX Type S 2dr  Sedan    Asia      Front  $23,820   \n",
       "2    Acura                  TSX 4dr  Sedan    Asia      Front  $26,990   \n",
       "3    Acura                   TL 4dr  Sedan    Asia      Front  $33,195   \n",
       "4    Acura               3.5 RL 4dr  Sedan    Asia      Front  $43,755   \n",
       "..     ...                      ...    ...     ...        ...      ...   \n",
       "423  Volvo  C70 LPT convertible 2dr  Sedan  Europe      Front  $40,565   \n",
       "424  Volvo  C70 HPT convertible 2dr  Sedan  Europe      Front  $42,565   \n",
       "425  Volvo               S80 T6 4dr  Sedan  Europe      Front  $45,210   \n",
       "426  Volvo                      V40  Wagon  Europe      Front  $26,135   \n",
       "427  Volvo                     XC70  Wagon  Europe        All  $35,145   \n",
       "\n",
       "     Invoice  EngineSize  Cylinders  Horsepower  MPG_City  MPG_Highway  \\\n",
       "0    $33,337         3.5        6.0         265        17           23   \n",
       "1    $21,761         2.0        4.0         200        24           31   \n",
       "2    $24,647         2.4        4.0         200        22           29   \n",
       "3    $30,299         3.2        6.0         270        20           28   \n",
       "4    $39,014         3.5        6.0         225        18           24   \n",
       "..       ...         ...        ...         ...       ...          ...   \n",
       "423  $38,203         2.4        5.0         197        21           28   \n",
       "424  $40,083         2.3        5.0         242        20           26   \n",
       "425  $42,573         2.9        6.0         268        19           26   \n",
       "426  $24,641         1.9        4.0         170        22           29   \n",
       "427  $33,112         2.5        5.0         208        20           27   \n",
       "\n",
       "     Weight  Wheelbase  Length  \n",
       "0      4451        106     189  \n",
       "1      2778        101     172  \n",
       "2      3230        105     183  \n",
       "3      3575        108     186  \n",
       "4      3880        115     197  \n",
       "..      ...        ...     ...  \n",
       "423    3450        105     186  \n",
       "424    3450        105     186  \n",
       "425    3653        110     190  \n",
       "426    2822        101     180  \n",
       "427    3823        109     186  \n",
       "\n",
       "[428 rows x 15 columns]"
      ]
     },
     "execution_count": 10,
     "metadata": {},
     "output_type": "execute_result"
    }
   ],
   "source": [
    "df"
   ]
  },
  {
   "cell_type": "markdown",
   "metadata": {},
   "source": [
    "Determining instances and the number of features."
   ]
  },
  {
   "cell_type": "code",
   "execution_count": 11,
   "metadata": {},
   "outputs": [
    {
     "data": {
      "text/plain": [
       "(428, 15)"
      ]
     },
     "execution_count": 11,
     "metadata": {},
     "output_type": "execute_result"
    }
   ],
   "source": [
    "df.shape"
   ]
  },
  {
   "cell_type": "markdown",
   "metadata": {},
   "source": [
    "Removing irrelevant features."
   ]
  },
  {
   "cell_type": "code",
   "execution_count": 13,
   "metadata": {},
   "outputs": [
    {
     "data": {
      "text/html": [
       "<div>\n",
       "<style scoped>\n",
       "    .dataframe tbody tr th:only-of-type {\n",
       "        vertical-align: middle;\n",
       "    }\n",
       "\n",
       "    .dataframe tbody tr th {\n",
       "        vertical-align: top;\n",
       "    }\n",
       "\n",
       "    .dataframe thead th {\n",
       "        text-align: right;\n",
       "    }\n",
       "</style>\n",
       "<table border=\"1\" class=\"dataframe\">\n",
       "  <thead>\n",
       "    <tr style=\"text-align: right;\">\n",
       "      <th></th>\n",
       "      <th>Make</th>\n",
       "      <th>MSRP</th>\n",
       "      <th>EngineSize</th>\n",
       "      <th>Cylinders</th>\n",
       "      <th>Horsepower</th>\n",
       "      <th>MPG_City</th>\n",
       "      <th>MPG_Highway</th>\n",
       "      <th>Weight</th>\n",
       "      <th>Wheelbase</th>\n",
       "      <th>Length</th>\n",
       "    </tr>\n",
       "  </thead>\n",
       "  <tbody>\n",
       "    <tr>\n",
       "      <th>0</th>\n",
       "      <td>Acura</td>\n",
       "      <td>$36,945</td>\n",
       "      <td>3.5</td>\n",
       "      <td>6.0</td>\n",
       "      <td>265</td>\n",
       "      <td>17</td>\n",
       "      <td>23</td>\n",
       "      <td>4451</td>\n",
       "      <td>106</td>\n",
       "      <td>189</td>\n",
       "    </tr>\n",
       "    <tr>\n",
       "      <th>1</th>\n",
       "      <td>Acura</td>\n",
       "      <td>$23,820</td>\n",
       "      <td>2.0</td>\n",
       "      <td>4.0</td>\n",
       "      <td>200</td>\n",
       "      <td>24</td>\n",
       "      <td>31</td>\n",
       "      <td>2778</td>\n",
       "      <td>101</td>\n",
       "      <td>172</td>\n",
       "    </tr>\n",
       "    <tr>\n",
       "      <th>2</th>\n",
       "      <td>Acura</td>\n",
       "      <td>$26,990</td>\n",
       "      <td>2.4</td>\n",
       "      <td>4.0</td>\n",
       "      <td>200</td>\n",
       "      <td>22</td>\n",
       "      <td>29</td>\n",
       "      <td>3230</td>\n",
       "      <td>105</td>\n",
       "      <td>183</td>\n",
       "    </tr>\n",
       "    <tr>\n",
       "      <th>3</th>\n",
       "      <td>Acura</td>\n",
       "      <td>$33,195</td>\n",
       "      <td>3.2</td>\n",
       "      <td>6.0</td>\n",
       "      <td>270</td>\n",
       "      <td>20</td>\n",
       "      <td>28</td>\n",
       "      <td>3575</td>\n",
       "      <td>108</td>\n",
       "      <td>186</td>\n",
       "    </tr>\n",
       "    <tr>\n",
       "      <th>4</th>\n",
       "      <td>Acura</td>\n",
       "      <td>$43,755</td>\n",
       "      <td>3.5</td>\n",
       "      <td>6.0</td>\n",
       "      <td>225</td>\n",
       "      <td>18</td>\n",
       "      <td>24</td>\n",
       "      <td>3880</td>\n",
       "      <td>115</td>\n",
       "      <td>197</td>\n",
       "    </tr>\n",
       "  </tbody>\n",
       "</table>\n",
       "</div>"
      ],
      "text/plain": [
       "    Make     MSRP  EngineSize  Cylinders  Horsepower  MPG_City  MPG_Highway  \\\n",
       "0  Acura  $36,945         3.5        6.0         265        17           23   \n",
       "1  Acura  $23,820         2.0        4.0         200        24           31   \n",
       "2  Acura  $26,990         2.4        4.0         200        22           29   \n",
       "3  Acura  $33,195         3.2        6.0         270        20           28   \n",
       "4  Acura  $43,755         3.5        6.0         225        18           24   \n",
       "\n",
       "   Weight  Wheelbase  Length  \n",
       "0    4451        106     189  \n",
       "1    2778        101     172  \n",
       "2    3230        105     183  \n",
       "3    3575        108     186  \n",
       "4    3880        115     197  "
      ]
     },
     "execution_count": 13,
     "metadata": {},
     "output_type": "execute_result"
    }
   ],
   "source": [
    "# Removing irrelevant features\n",
    "df = df.drop(['Model','DriveTrain','Invoice', 'Origin', 'Type'], axis=1)\n",
    "df.head(5)"
   ]
  },
  {
   "cell_type": "markdown",
   "metadata": {},
   "source": [
    "# 3) Exploratory Data Analysis"
   ]
  },
  {
   "cell_type": "code",
   "execution_count": 17,
   "metadata": {},
   "outputs": [
    {
     "name": "stdout",
     "output_type": "stream",
     "text": [
      "<class 'pandas.core.frame.DataFrame'>\n",
      "RangeIndex: 428 entries, 0 to 427\n",
      "Data columns (total 10 columns):\n",
      " #   Column       Non-Null Count  Dtype  \n",
      "---  ------       --------------  -----  \n",
      " 0   Make         428 non-null    object \n",
      " 1   MSRP         428 non-null    object \n",
      " 2   EngineSize   428 non-null    float64\n",
      " 3   Cylinders    426 non-null    float64\n",
      " 4   Horsepower   428 non-null    int64  \n",
      " 5   MPG_City     428 non-null    int64  \n",
      " 6   MPG_Highway  428 non-null    int64  \n",
      " 7   Weight       428 non-null    int64  \n",
      " 8   Wheelbase    428 non-null    int64  \n",
      " 9   Length       428 non-null    int64  \n",
      "dtypes: float64(2), int64(6), object(2)\n",
      "memory usage: 33.6+ KB\n"
     ]
    }
   ],
   "source": [
    "df.info()"
   ]
  },
  {
   "cell_type": "code",
   "execution_count": 18,
   "metadata": {},
   "outputs": [
    {
     "data": {
      "text/plain": [
       "2"
      ]
     },
     "execution_count": 18,
     "metadata": {},
     "output_type": "execute_result"
    }
   ],
   "source": [
    "df.ndim"
   ]
  },
  {
   "cell_type": "code",
   "execution_count": 19,
   "metadata": {},
   "outputs": [
    {
     "data": {
      "text/plain": [
       "(428, 10)"
      ]
     },
     "execution_count": 19,
     "metadata": {},
     "output_type": "execute_result"
    }
   ],
   "source": [
    "df.shape"
   ]
  },
  {
   "cell_type": "code",
   "execution_count": 20,
   "metadata": {},
   "outputs": [
    {
     "data": {
      "text/plain": [
       "Make           410\n",
       "MSRP           410\n",
       "EngineSize     410\n",
       "Cylinders      408\n",
       "Horsepower     410\n",
       "MPG_City       410\n",
       "MPG_Highway    410\n",
       "Weight         410\n",
       "Wheelbase      410\n",
       "Length         410\n",
       "dtype: int64"
      ]
     },
     "execution_count": 20,
     "metadata": {},
     "output_type": "execute_result"
    }
   ],
   "source": [
    "df = df.drop_duplicates(subset='MSRP', keep='first')\n",
    "df.count()"
   ]
  },
  {
   "cell_type": "code",
   "execution_count": 21,
   "metadata": {},
   "outputs": [
    {
     "name": "stdout",
     "output_type": "stream",
     "text": [
      "Make           0\n",
      "MSRP           0\n",
      "EngineSize     0\n",
      "Cylinders      2\n",
      "Horsepower     0\n",
      "MPG_City       0\n",
      "MPG_Highway    0\n",
      "Weight         0\n",
      "Wheelbase      0\n",
      "Length         0\n",
      "dtype: int64\n"
     ]
    }
   ],
   "source": [
    "print(df.isnull().sum())"
   ]
  },
  {
   "cell_type": "code",
   "execution_count": 22,
   "metadata": {},
   "outputs": [],
   "source": [
    "df['Cylinders'].fillna(df['Cylinders'].mean(),inplace=True)"
   ]
  },
  {
   "cell_type": "code",
   "execution_count": 23,
   "metadata": {},
   "outputs": [
    {
     "name": "stdout",
     "output_type": "stream",
     "text": [
      "Make           0\n",
      "MSRP           0\n",
      "EngineSize     0\n",
      "Cylinders      0\n",
      "Horsepower     0\n",
      "MPG_City       0\n",
      "MPG_Highway    0\n",
      "Weight         0\n",
      "Wheelbase      0\n",
      "Length         0\n",
      "dtype: int64\n"
     ]
    }
   ],
   "source": [
    "print(df.isnull().sum())"
   ]
  },
  {
   "cell_type": "code",
   "execution_count": 24,
   "metadata": {},
   "outputs": [],
   "source": [
    "df['MSRP'] = [x.replace('$', '') for x in df['MSRP']] \n",
    "df['MSRP'] = [x.replace(',', '') for x in df['MSRP']]"
   ]
  },
  {
   "cell_type": "code",
   "execution_count": 25,
   "metadata": {},
   "outputs": [],
   "source": [
    "df['MSRP']=pd.to_numeric(df['MSRP'],errors='coerce')"
   ]
  },
  {
   "cell_type": "code",
   "execution_count": 26,
   "metadata": {},
   "outputs": [
    {
     "data": {
      "image/png": "[encoded data removed]",
      "text/plain": [
       "<Figure size 864x504 with 1 Axes>"
      ]
     },
     "metadata": {
      "needs_background": "light"
     },
     "output_type": "display_data"
    }
   ],
   "source": [
    "plt.figure(figsize=(12,7))\n",
    "sns.boxplot(x=df['MSRP'])\n",
    "plt.show()"
   ]
  },
  {
   "cell_type": "code",
   "execution_count": 27,
   "metadata": {},
   "outputs": [
    {
     "data": {
      "text/html": [
       "<div>\n",
       "<style scoped>\n",
       "    .dataframe tbody tr th:only-of-type {\n",
       "        vertical-align: middle;\n",
       "    }\n",
       "\n",
       "    .dataframe tbody tr th {\n",
       "        vertical-align: top;\n",
       "    }\n",
       "\n",
       "    .dataframe thead th {\n",
       "        text-align: right;\n",
       "    }\n",
       "</style>\n",
       "<table border=\"1\" class=\"dataframe\">\n",
       "  <thead>\n",
       "    <tr style=\"text-align: right;\">\n",
       "      <th></th>\n",
       "      <th>MSRP</th>\n",
       "      <th>EngineSize</th>\n",
       "      <th>Cylinders</th>\n",
       "      <th>Horsepower</th>\n",
       "      <th>MPG_City</th>\n",
       "      <th>MPG_Highway</th>\n",
       "      <th>Weight</th>\n",
       "      <th>Wheelbase</th>\n",
       "      <th>Length</th>\n",
       "    </tr>\n",
       "  </thead>\n",
       "  <tbody>\n",
       "    <tr>\n",
       "      <th>count</th>\n",
       "      <td>410.000000</td>\n",
       "      <td>410.000000</td>\n",
       "      <td>410.000000</td>\n",
       "      <td>410.000000</td>\n",
       "      <td>410.000000</td>\n",
       "      <td>410.000000</td>\n",
       "      <td>410.000000</td>\n",
       "      <td>410.000000</td>\n",
       "      <td>410.000000</td>\n",
       "    </tr>\n",
       "    <tr>\n",
       "      <th>mean</th>\n",
       "      <td>32919.021951</td>\n",
       "      <td>3.200976</td>\n",
       "      <td>5.823529</td>\n",
       "      <td>216.007317</td>\n",
       "      <td>20.039024</td>\n",
       "      <td>26.792683</td>\n",
       "      <td>3581.221951</td>\n",
       "      <td>108.168293</td>\n",
       "      <td>186.368293</td>\n",
       "    </tr>\n",
       "    <tr>\n",
       "      <th>std</th>\n",
       "      <td>19628.241002</td>\n",
       "      <td>1.115264</td>\n",
       "      <td>1.556824</td>\n",
       "      <td>72.330689</td>\n",
       "      <td>5.280720</td>\n",
       "      <td>5.790004</td>\n",
       "      <td>766.396651</td>\n",
       "      <td>8.365634</td>\n",
       "      <td>14.416388</td>\n",
       "    </tr>\n",
       "    <tr>\n",
       "      <th>min</th>\n",
       "      <td>10280.000000</td>\n",
       "      <td>1.300000</td>\n",
       "      <td>3.000000</td>\n",
       "      <td>73.000000</td>\n",
       "      <td>10.000000</td>\n",
       "      <td>12.000000</td>\n",
       "      <td>1850.000000</td>\n",
       "      <td>89.000000</td>\n",
       "      <td>143.000000</td>\n",
       "    </tr>\n",
       "    <tr>\n",
       "      <th>25%</th>\n",
       "      <td>20324.750000</td>\n",
       "      <td>2.325000</td>\n",
       "      <td>4.000000</td>\n",
       "      <td>165.000000</td>\n",
       "      <td>17.000000</td>\n",
       "      <td>24.000000</td>\n",
       "      <td>3102.000000</td>\n",
       "      <td>103.000000</td>\n",
       "      <td>178.000000</td>\n",
       "    </tr>\n",
       "    <tr>\n",
       "      <th>50%</th>\n",
       "      <td>27807.500000</td>\n",
       "      <td>3.000000</td>\n",
       "      <td>6.000000</td>\n",
       "      <td>210.000000</td>\n",
       "      <td>19.000000</td>\n",
       "      <td>26.000000</td>\n",
       "      <td>3476.000000</td>\n",
       "      <td>107.000000</td>\n",
       "      <td>187.000000</td>\n",
       "    </tr>\n",
       "    <tr>\n",
       "      <th>75%</th>\n",
       "      <td>39411.250000</td>\n",
       "      <td>3.875000</td>\n",
       "      <td>6.000000</td>\n",
       "      <td>250.000000</td>\n",
       "      <td>21.000000</td>\n",
       "      <td>29.000000</td>\n",
       "      <td>3974.250000</td>\n",
       "      <td>112.000000</td>\n",
       "      <td>194.000000</td>\n",
       "    </tr>\n",
       "    <tr>\n",
       "      <th>max</th>\n",
       "      <td>192465.000000</td>\n",
       "      <td>8.300000</td>\n",
       "      <td>12.000000</td>\n",
       "      <td>500.000000</td>\n",
       "      <td>60.000000</td>\n",
       "      <td>66.000000</td>\n",
       "      <td>7190.000000</td>\n",
       "      <td>144.000000</td>\n",
       "      <td>238.000000</td>\n",
       "    </tr>\n",
       "  </tbody>\n",
       "</table>\n",
       "</div>"
      ],
      "text/plain": [
       "                MSRP  EngineSize   Cylinders  Horsepower    MPG_City  \\\n",
       "count     410.000000  410.000000  410.000000  410.000000  410.000000   \n",
       "mean    32919.021951    3.200976    5.823529  216.007317   20.039024   \n",
       "std     19628.241002    1.115264    1.556824   72.330689    5.280720   \n",
       "min     10280.000000    1.300000    3.000000   73.000000   10.000000   \n",
       "25%     20324.750000    2.325000    4.000000  165.000000   17.000000   \n",
       "50%     27807.500000    3.000000    6.000000  210.000000   19.000000   \n",
       "75%     39411.250000    3.875000    6.000000  250.000000   21.000000   \n",
       "max    192465.000000    8.300000   12.000000  500.000000   60.000000   \n",
       "\n",
       "       MPG_Highway       Weight   Wheelbase      Length  \n",
       "count   410.000000   410.000000  410.000000  410.000000  \n",
       "mean     26.792683  3581.221951  108.168293  186.368293  \n",
       "std       5.790004   766.396651    8.365634   14.416388  \n",
       "min      12.000000  1850.000000   89.000000  143.000000  \n",
       "25%      24.000000  3102.000000  103.000000  178.000000  \n",
       "50%      26.000000  3476.000000  107.000000  187.000000  \n",
       "75%      29.000000  3974.250000  112.000000  194.000000  \n",
       "max      66.000000  7190.000000  144.000000  238.000000  "
      ]
     },
     "execution_count": 27,
     "metadata": {},
     "output_type": "execute_result"
    }
   ],
   "source": [
    "df.describe()"
   ]
  },
  {
   "cell_type": "code",
   "execution_count": 28,
   "metadata": {},
   "outputs": [
    {
     "data": {
      "image/png": "[encoded data removed]",
      "text/plain": [
       "<Figure size 1080x504 with 1 Axes>"
      ]
     },
     "metadata": {
      "needs_background": "light"
     },
     "output_type": "display_data"
    }
   ],
   "source": [
    "df.Make.value_counts().nlargest(40).plot(kind='bar', figsize=(15,7))\n",
    "f={'family':'Arial','size':50,\"color\":'r'}\n",
    "v={'family':'cambria','size':30,\"color\":'g'}\n",
    "plt.title(\"Number of cars by make\",fontdict=f)\n",
    "plt.ylabel('Number of cars',fontdict=v)\n",
    "plt.xlabel('Make',fontdict=v);"
   ]
  },
  {
   "cell_type": "code",
   "execution_count": 29,
   "metadata": {},
   "outputs": [
    {
     "data": {
      "text/plain": [
       "Text(0.5, 41.09375, 'HeatMap')"
      ]
     },
     "execution_count": 29,
     "metadata": {},
     "output_type": "execute_result"
    },
    {
     "data": {
      "image/png": "[encoded data removed]",
      "text/plain": [
       "<Figure size 864x504 with 2 Axes>"
      ]
     },
     "metadata": {
      "needs_background": "light"
     },
     "output_type": "display_data"
    }
   ],
   "source": [
    "plt.figure(figsize=(12,7))\n",
    "\n",
    "c= df.corr()\n",
    "sns.heatmap(c,cmap=\"BrBG\",annot=True)\n",
    "plt.xlabel(\"HeatMap\",fontdict=f)"
   ]
  },
  {
   "cell_type": "code",
   "execution_count": 30,
   "metadata": {},
   "outputs": [
    {
     "data": {
      "image/png": "[encoded data removed]",
      "text/plain": [
       "<Figure size 720x504 with 1 Axes>"
      ]
     },
     "metadata": {
      "needs_background": "light"
     },
     "output_type": "display_data"
    }
   ],
   "source": [
    "fig, ax = plt.subplots(figsize=(10,7))\n",
    "ax.scatter(df['Horsepower'], df['MSRP'])\n",
    "f={'family':'Arial','size':30,\"color\":'r'}\n",
    "v={'family':'cambria','size':20,\"color\":'g'}\n",
    "plt.title('Scatter plot between MSRP and Horsepower',fontdict=f)\n",
    "ax.set_xlabel('---- Horsepower ---->',fontdict=v)\n",
    "ax.set_ylabel('---- MSRP ---->',fontdict=v)\n",
    "plt.show()"
   ]
  },
  {
   "cell_type": "code",
   "execution_count": 31,
   "metadata": {},
   "outputs": [
    {
     "data": {
      "text/plain": [
       "<function matplotlib.pyplot.show(close=None, block=None)>"
      ]
     },
     "execution_count": 31,
     "metadata": {},
     "output_type": "execute_result"
    },
    {
     "data": {
      "image/png": "[encoded data removed]",
      "text/plain": [
       "<Figure size 720x504 with 1 Axes>"
      ]
     },
     "metadata": {
      "needs_background": "light"
     },
     "output_type": "display_data"
    }
   ],
   "source": [
    "fig, ax = plt.subplots(figsize=(10,7))\n",
    "ax.scatter(df['MPG_City'], df['MPG_Highway'])\n",
    "f={'family':'Arial','size':20,\"color\":'g'}\n",
    "plt.title('Scatter plot between MPG_City and MPG_Highway',fontdict=f)\n",
    "plt.show"
   ]
  }
 ],
 "metadata": {
  "interpreter": {
   "hash": "633549c87213b78912cd652b6c2fde649a5e74fd1435a59f9e018a8ca53c5818"
  },
  "kernelspec": {
   "display_name": "Python 3.9.7 ('base')",
   "language": "python",
   "name": "python3"
  },
  "language_info": {
   "codemirror_mode": {
    "name": "ipython",
    "version": 3
   },
   "file_extension": ".py",
   "mimetype": "text/x-python",
   "name": "python",
   "nbconvert_exporter": "python",
   "pygments_lexer": "ipython3",
   "version": "3.9.7"
  },
  "orig_nbformat": 4
 },
 "nbformat": 4,
 "nbformat_minor": 2
}
